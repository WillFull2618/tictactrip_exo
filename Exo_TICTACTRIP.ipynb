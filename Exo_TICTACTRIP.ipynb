{
 "cells": [
  {
   "cell_type": "markdown",
   "metadata": {},
   "source": [
    "<b><h1>Petit exo de crunching de data</h1></b>"
   ]
  },
  {
   "cell_type": "markdown",
   "metadata": {},
   "source": [
    "## **Setup**"
   ]
  },
  {
   "cell_type": "code",
   "execution_count": 8,
   "metadata": {},
   "outputs": [],
   "source": [
    "# used libraries\n",
    "import pandas as pd \n",
    "import numpy as np\n",
    "import matplotlib.pyplot as plt\n",
    "import scipy.stats as stats\n",
    "import math\n",
    "import datetime\n",
    "import warnings\n",
    "warnings.filterwarnings('ignore')\n",
    "%matplotlib inline"
   ]
  },
  {
   "cell_type": "code",
   "execution_count": 9,
   "metadata": {},
   "outputs": [],
   "source": [
    "# loading data\n",
    "cities = pd.read_csv('data_tictactrip/cities.csv')\n",
    "providers = pd.read_csv('data_tictactrip/providers.csv')\n",
    "stations = pd.read_csv('data_tictactrip/stations.csv')\n",
    "tickets = pd.read_csv('data_tictactrip/ticket_data.csv')"
   ]
  },
  {
   "cell_type": "markdown",
   "metadata": {},
   "source": [
    "## **Presentation des données**"
   ]
  },
  {
   "cell_type": "markdown",
   "metadata": {},
   "source": [
    "Ma première étape dans cet exercice était de visualiser les données de façon à pouvoir comprendre leurs formats, et les liens entre les dataframes."
   ]
  },
  {
   "cell_type": "markdown",
   "metadata": {},
   "source": [
    "#### **Cities data**"
   ]
  },
  {
   "cell_type": "code",
   "execution_count": 10,
   "metadata": {},
   "outputs": [
    {
     "name": "stdout",
     "output_type": "stream",
     "text": [
      "Nombre de lignes: 8040\n",
      "Nombre de colonnes: 6\n",
      "Index(['id', 'local_name', 'unique_name', 'latitude', 'longitude',\n",
      "       'population'],\n",
      "      dtype='object')\n"
     ]
    }
   ],
   "source": [
    "# informations cities data \n",
    "print('Nombre de lignes: {}'.format(cities.shape[0]))\n",
    "print('Nombre de colonnes: {}'.format(cities.shape[1]))\n",
    "print(cities.columns)"
   ]
  },
  {
   "cell_type": "markdown",
   "metadata": {},
   "source": [
    "#### **Stations Data**"
   ]
  },
  {
   "cell_type": "code",
   "execution_count": 11,
   "metadata": {},
   "outputs": [
    {
     "name": "stdout",
     "output_type": "stream",
     "text": [
      "Nombre de lignes: 11035\n",
      "Nombre de colonnes: 4\n",
      "Index(['id', 'unique_name', 'latitude', 'longitude'], dtype='object')\n"
     ]
    }
   ],
   "source": [
    "# informations stations data \n",
    "print('Nombre de lignes: {}'.format(stations.shape[0]))\n",
    "print('Nombre de colonnes: {}'.format(stations.shape[1]))\n",
    "print(stations.columns)"
   ]
  },
  {
   "cell_type": "markdown",
   "metadata": {},
   "source": [
    "#### **Providers Data**"
   ]
  },
  {
   "cell_type": "code",
   "execution_count": 12,
   "metadata": {},
   "outputs": [
    {
     "name": "stdout",
     "output_type": "stream",
     "text": [
      "Nombre de lignes: 227\n",
      "Nombre de colonnes: 10\n",
      "Index(['id', 'company_id', 'provider_id', 'name', 'fullname', 'has_wifi',\n",
      "       'has_plug', 'has_adjustable_seats', 'has_bicycle', 'transport_type'],\n",
      "      dtype='object')\n"
     ]
    }
   ],
   "source": [
    "# informations providers data \n",
    "print('Nombre de lignes: {}'.format(providers.shape[0]))\n",
    "print('Nombre de colonnes: {}'.format(providers.shape[1]))\n",
    "print(providers.columns)"
   ]
  },
  {
   "cell_type": "markdown",
   "metadata": {},
   "source": [
    "#### **Ticket Data**"
   ]
  },
  {
   "cell_type": "code",
   "execution_count": 13,
   "metadata": {},
   "outputs": [
    {
     "name": "stdout",
     "output_type": "stream",
     "text": [
      "Nombre de lignes: 74168\n",
      "Nombre de colonnes: 12\n",
      "Index(['id', 'company', 'o_station', 'd_station', 'departure_ts', 'arrival_ts',\n",
      "       'price_in_cents', 'search_ts', 'middle_stations', 'other_companies',\n",
      "       'o_city', 'd_city'],\n",
      "      dtype='object')\n"
     ]
    }
   ],
   "source": [
    "# informations ticket data \n",
    "print('Nombre de lignes: {}'.format(tickets.shape[0]))\n",
    "print('Nombre de colonnes: {}'.format(tickets.shape[1]))\n",
    "print(tickets.columns)"
   ]
  },
  {
   "cell_type": "markdown",
   "metadata": {},
   "source": [
    "Le dataframe tickets est complété par les données cities, stations, et providers. Pour cette raison, plus d'attention sera portée sur ce dataframe."
   ]
  },
  {
   "cell_type": "markdown",
   "metadata": {},
   "source": [
    "## **Fonctions**"
   ]
  },
  {
   "cell_type": "markdown",
   "metadata": {},
   "source": [
    "Au cours de cet exercice, certaines fonctions sont construites facilitant les taches par la suite. Ces fonctions sont utiles pour calculer la distance par vol d'oiseau en utilisant les données de longitude et de latitude, ou pour calculer toutes les distances et les durées de chaque voyage."
   ]
  },
  {
   "cell_type": "code",
   "execution_count": 14,
   "metadata": {},
   "outputs": [],
   "source": [
    "# fonctions utilisées\n",
    "\n",
    "# calcule la distance entre deux coordonnées\n",
    "def distFromLatLon(lat1, lon1, lat2, lon2):\n",
    "    # rayon de la terre en km\n",
    "    radius = 6371\n",
    "    dLat = math.radians(lat2 - lat1)\n",
    "    dLon = math.radians(lon2 - lon1)\n",
    "    dist = math.sin(dLat/2)**2 + math.cos(math.radians(lat1)) * math.cos(math.radians(lat2)) * math.sin(dLon/2)**2\n",
    "    dist = 2 * math.atan2(math.sqrt(dist), math.sqrt(1-dist))\n",
    "    dist = radius * dist\n",
    "    \n",
    "    return dist\n",
    "\n",
    "\n",
    "# calcule la distance pour chaque billets achetés\n",
    "\n",
    "def distCalc(ticket_data, city_data):\n",
    "    # lon lat holders\n",
    "    lat = [0,0]\n",
    "    lon = [0,0]\n",
    "    # dep et arr villes\n",
    "    dep_data = ticket_data['o_city']\n",
    "    arr_data = ticket_data['d_city']\n",
    "    # all dist holders\n",
    "    totalDist = np.zeros(dep_data.shape[0])\n",
    "    \n",
    "    # calcule des distance\n",
    "    for i in range(dep_data.shape[0]):\n",
    "        o_city = ticket_data['o_city'].loc[i]\n",
    "        d_city = ticket_data['d_city'].loc[i]\n",
    "        o_city = city_data.loc[city_data['id'] == o_city]\n",
    "        d_city = city_data.loc[city_data['id'] == d_city]\n",
    "        lat[0] = float(str(o_city['latitude']).split()[1])\n",
    "        lon[0] = float(str(o_city['longitude']).split()[1])\n",
    "        lat[1] = float(str(d_city['latitude']).split()[1])\n",
    "        lon[1] = float(str(d_city['longitude']).split()[1])\n",
    "        totalDist[i] = distFromLatLon(lat[0], lon[0], lat[1], lon[1])\n",
    "    \n",
    "    return totalDist\n",
    "# cacule la durée de chaque voyage en seconde\n",
    "\n",
    "def timeCalc(df):\n",
    "    # colonnes depart et arrivée\n",
    "    depTime = df['departure_ts']\n",
    "    arrTime = df['arrival_ts']\n",
    "    \n",
    "    # temps totale\n",
    "    totalTime = np.zeros(depTime.shape)\n",
    "    \n",
    "    # calcule du temps totale\n",
    "    for i in range(depTime.shape[0]):\n",
    "        dep = datetime.datetime.strptime(depTime[i][:-3], \"%Y-%m-%d %H:%M:%S\")\n",
    "        arr = datetime.datetime.strptime(arrTime[i][:-3], \"%Y-%m-%d %H:%M:%S\")\n",
    "        totalTime[i] = (arr - dep).total_seconds()\n",
    "    return(totalTime)\n",
    "\n",
    "# secondes to heures/minutes\n",
    "\n",
    "def secToHour(secs):\n",
    "    time = datetime.timedelta(seconds = secs)\n",
    "    return time"
   ]
  },
  {
   "cell_type": "code",
   "execution_count": 15,
   "metadata": {},
   "outputs": [
    {
     "name": "stdout",
     "output_type": "stream",
     "text": [
      "Total time done!\n",
      "Total dist done!\n"
     ]
    }
   ],
   "source": [
    "# cacule des données intéressante (LONG RUN TIME)\n",
    "# temps en seconde\n",
    "prix = tickets['price_in_cents'] /100\n",
    "totalTime = timeCalc(tickets)\n",
    "print('Total time done!')\n",
    "# distance en km\n",
    "totalDist = distCalc(tickets, cities)\n",
    "print('Total dist done!')"
   ]
  },
  {
   "cell_type": "markdown",
   "metadata": {},
   "source": [
    "### **Utilsation des données**"
   ]
  },
  {
   "cell_type": "markdown",
   "metadata": {},
   "source": [
    "Les données ont ensuite été analysées, en commencent par une analyse des prix, de la durée, et de la distance des voyages individuellement. Ces données ont ensuite étaient utilisé pour comparer chaque mode de transport. Ceci nous permet d'avoir une vue et compréhension globale des données, pour ensuite pouvoir mieux comparer chaque mode de transport individuellement. "
   ]
  },
  {
   "cell_type": "markdown",
   "metadata": {},
   "source": [
    "### **Prix**"
   ]
  },
  {
   "cell_type": "code",
   "execution_count": 16,
   "metadata": {},
   "outputs": [
    {
     "name": "stdout",
     "output_type": "stream",
     "text": [
      "Statistique des prix (sans considérer la distance)\n",
      "\n",
      "Prix moyen 43.83 €\n",
      "Ecart-type  37.39 €\n",
      "Prix minimum 3.00 €\n",
      "Prix maximum 385.50 €\n"
     ]
    },
    {
     "data": {
      "image/png": "[encoded data removed]",
      "text/plain": [
       "<matplotlib.figure.Figure at 0x7fd04c9ced30>"
      ]
     },
     "metadata": {},
     "output_type": "display_data"
    },
    {
     "name": "stdout",
     "output_type": "stream",
     "text": [
      "En observant la distribution des prix nous pouvons conclure que ces prix suivent une loi exponentielle. Ce qui indique que la majorité des billets sont achetés entre 3 € et 50 €\n",
      "\n",
      "\n",
      "Voyage prix minimum, entre: Auxerre, Bourgogne-Franche-Comté, France\n",
      "et: Clamecy, Bourgogne-Franche-Comté, France\n",
      "Soit une distance de: 36.98 km (entre villes)\n",
      "\n",
      "\n",
      "Voyage prix maximum, entre: London, England, United Kingdom\n",
      "et: Bordeaux, Nouvelle-Aquitaine, France\n",
      "Soit une distance de: 745.78 km (entre gares)\n"
     ]
    }
   ],
   "source": [
    "# selectionner la colonne prix\n",
    "prix = tickets['price_in_cents']\n",
    "\n",
    "# statistique de base\n",
    "print('Statistique des prix (sans considérer la distance)\\n')\n",
    "moyenne = np.mean(prix)\n",
    "std = np.std(prix)\n",
    "minimum = np.min(prix)\n",
    "maximum = np.max(prix)\n",
    "\n",
    "print('Prix moyen {:.2f} €'.format(moyenne/100))\n",
    "print('Ecart-type {: .2f} €'.format(std/100))\n",
    "print('Prix minimum {:.2f} €'.format(minimum/100))\n",
    "print('Prix maximum {:.2f} €'.format(maximum/100))\n",
    "# distribution des données (prix)\n",
    "plt.hist(prix/100)\n",
    "plt.title('Distribution des Prix')\n",
    "plt.xlabel('Prix (€)')\n",
    "plt.show()\n",
    "print('En observant la distribution des prix nous pouvons conclure que ces prix suivent une loi exponentielle. Ce qui indique que la majorité des billets sont achetés entre 3 € et 50 €')\n",
    "\n",
    "# analyse des extremum\n",
    "minimum_loc = np.argmin(prix)\n",
    "maximum_loc = np.argmax(prix)\n",
    "\n",
    "# minimum location\n",
    "o_city_min = tickets['o_city'].loc[minimum_loc]\n",
    "d_city_min = tickets['d_city'].loc[minimum_loc]\n",
    "o_city_min = cities.loc[cities['id'] == o_city_min]\n",
    "d_city_min = cities.loc[cities['id'] == d_city_min]\n",
    "o_name_min = str(o_city_min['local_name']).split()[1:4]\n",
    "d_name_min = str(d_city_min['local_name']).split()[1:4]\n",
    "print('\\n\\nVoyage prix minimum, entre: {} {} {}'.format(o_name_min[0], o_name_min[1], o_name_min[2]))\n",
    "print('et: {} {} {}'.format(d_name_min[0], d_name_min[1], d_name_min[2]))\n",
    "\n",
    "# distance pour prix mini\n",
    "lat_o = float(str(o_city_min['latitude']).split()[1])\n",
    "lon_o = float(str(o_city_min['longitude']).split()[1])\n",
    "lat_d = float(str(d_city_min['latitude']).split()[1])\n",
    "lon_d = float(str(d_city_min['longitude']).split()[1])\n",
    "dist = distFromLatLon(lat_o, lon_o, lat_d, lon_d)\n",
    "print('Soit une distance de: {:.2f} km (entre villes)'.format(dist))\n",
    "\n",
    "# maximum location\n",
    "o_city_max = tickets['o_city'].loc[maximum_loc]\n",
    "d_city_max = tickets['d_city'].loc[maximum_loc]\n",
    "o_city_max = cities.loc[cities['id'] == o_city_max]\n",
    "d_city_max = cities.loc[cities['id'] == d_city_max]\n",
    "o_name_max = str(o_city_max['local_name']).split()[1:5]\n",
    "d_name_max = str(d_city_max['local_name']).split()[1:4]\n",
    "print('\\n\\nVoyage prix maximum, entre: {} {} {} {}'.format(o_name_max[0], o_name_max[1], o_name_max[2], o_name_max[3]))\n",
    "print('et: {} {} {}'.format(d_name_max[0], d_name_max[1], d_name_max[2]))\n",
    "\n",
    "# distance entre gares pour prix maxi\n",
    "o_station_max = tickets['o_station'].loc[maximum_loc]\n",
    "d_station_max = tickets['d_station'].loc[maximum_loc]\n",
    "o_station_max = stations.loc[stations['id'] == o_station_max]\n",
    "d_station_max = stations.loc[stations['id'] == d_station_max]\n",
    "lat_o = float(str(o_station_max['latitude']).split()[1])\n",
    "lon_o = float(str(o_station_max['longitude']).split()[1])\n",
    "lat_d = float(str(d_station_max['latitude']).split()[1])\n",
    "lon_d = float(str(d_station_max['longitude']).split()[1])\n",
    "dist = distFromLatLon(lat_o, lon_o, lat_d, lon_d)\n",
    "print('Soit une distance de: {:.2f} km (entre gares)'.format(dist))"
   ]
  },
  {
   "cell_type": "markdown",
   "metadata": {},
   "source": [
    "### **Durée**"
   ]
  },
  {
   "cell_type": "code",
   "execution_count": 17,
   "metadata": {},
   "outputs": [
    {
     "name": "stdout",
     "output_type": "stream",
     "text": [
      "Durée moyenne 7:04:37.247600\n",
      "Ecart-type 9:54:58.640688\n",
      "Durée minimum 0:20:00\n",
      "Durée maximum 20 days, 12:51:00\n"
     ]
    }
   ],
   "source": [
    "moyenne = secToHour(np.mean(totalTime))\n",
    "std = secToHour(np.std(totalTime))\n",
    "minimum = secToHour(np.min(totalTime))\n",
    "maximum = secToHour(np.max(totalTime))\n",
    "\n",
    "print('Durée moyenne {}'.format(moyenne))\n",
    "print('Ecart-type {}'.format(std))\n",
    "print('Durée minimum {}'.format(minimum))\n",
    "print('Durée maximum {}'.format(maximum))"
   ]
  },
  {
   "cell_type": "markdown",
   "metadata": {},
   "source": [
    "### **Distance**"
   ]
  },
  {
   "cell_type": "code",
   "execution_count": 18,
   "metadata": {},
   "outputs": [
    {
     "name": "stdout",
     "output_type": "stream",
     "text": [
      "Distance moyenne 363.04 km\n",
      "Ecart-type 194.93 km\n",
      "Distance minimum 18.91 km\n",
      "Distance maximum 1870.17 km\n",
      "\n",
      "\n",
      "Prix au km en moyenne 12.40 €/km\n",
      "Ecart-type 9.19 €/km\n",
      "Prix au km minimum 2.12 €/km\n",
      "Prix au km maximum 488.35 €/km\n"
     ]
    }
   ],
   "source": [
    "moyenne = np.mean(totalDist)\n",
    "std = np.std(totalDist)\n",
    "minimum = np.min(totalDist)\n",
    "maximum = np.max(totalDist)\n",
    "\n",
    "print('Distance moyenne {:.2f} km'.format(moyenne))\n",
    "print('Ecart-type {:.2f} km'.format(std))\n",
    "print('Distance minimum {:.2f} km'.format(minimum))\n",
    "print('Distance maximum {:.2f} km'.format(maximum))\n",
    "\n",
    "# calcule du prix par km en €/km\n",
    "prix_km = np.divide(prix, totalDist)\n",
    "\n",
    "moyenne = np.mean(prix_km)\n",
    "std = np.std(prix_km)\n",
    "minimum = np.min(prix_km)\n",
    "maximum = np.max(prix_km)\n",
    "print('\\n')\n",
    "print('Prix au km en moyenne {:.2f} €/km'.format(moyenne))\n",
    "print('Ecart-type {:.2f} €/km'.format(std))\n",
    "print('Prix au km minimum {:.2f} €/km'.format(minimum))\n",
    "print('Prix au km maximum {:.2f} €/km'.format(maximum))"
   ]
  },
  {
   "cell_type": "markdown",
   "metadata": {},
   "source": [
    "### **Comparatif des modes de transport**"
   ]
  },
  {
   "cell_type": "markdown",
   "metadata": {},
   "source": [
    "Le comparatif des modes de transport se divise en deux parties d'abord une présentation des modes de transport individuellement, puis une comparaison des modes de transport en prenant en compte 4 tranches de distance (0-200 km, 200-800 km, 800-1500 km, 1500+ km). Ceci permet d'avoir une compréhension plus complète de chaque mode de transport."
   ]
  },
  {
   "cell_type": "code",
   "execution_count": 19,
   "metadata": {},
   "outputs": [],
   "source": [
    "# calcules des stats pour chaque mode de transport (LONG RUN TIME)\n",
    "transport_id = tickets['company']\n",
    "\n",
    "# dict pour info sur transport\n",
    "types = {'bus':0, 'train':0, 'carpooling':0}\n",
    "# pour sats sur prix et distance\n",
    "prix_bus = np.zeros((0))\n",
    "prix_train = np.zeros((0))\n",
    "prix_covoit = np.zeros((0))\n",
    "dist_bus = np.zeros((0))\n",
    "dist_train = np.zeros((0))\n",
    "dist_covoit = np.zeros((0))\n",
    "durée_bus = np.zeros((0))\n",
    "durée_train = np.zeros((0))\n",
    "durée_covoit = np.zeros((0))\n",
    "# calcule du nombre d'utilisation de chaque mode de transport\n",
    "for i in range(transport_id.shape[0]):\n",
    "    \n",
    "    transport_info = str(providers.loc[providers['id'] == transport_id[i]]['transport_type']).split()[1]\n",
    "    types[transport_info] += 1\n",
    "    \n",
    "    if transport_info == 'bus':\n",
    "        prix_bus = np.append(prix_bus, prix[i])\n",
    "        durée_bus = np.append(durée_bus, totalTime[i])\n",
    "        dist_bus = np.append(dist_bus, totalDist[i])\n",
    "    elif transport_info == 'train':\n",
    "        prix_train = np.append(prix_train, prix[i])\n",
    "        durée_train = np.append(durée_train, totalTime[i])\n",
    "        dist_train = np.append(dist_train, totalDist[i])\n",
    "    elif transport_info == 'carpooling':\n",
    "        prix_covoit = np.append(prix_covoit, prix[i])\n",
    "        durée_covoit = np.append(durée_covoit, totalTime[i])\n",
    "        dist_covoit = np.append(dist_covoit, totalDist[i])\n",
    "        \n",
    "    else:\n",
    "        print('Unknown transport type')\n"
   ]
  },
  {
   "cell_type": "code",
   "execution_count": 20,
   "metadata": {},
   "outputs": [
    {
     "data": {
      "image/png": "[encoded data removed]",
      "text/plain": [
       "<matplotlib.figure.Figure at 0x7fd04d8ffa20>"
      ]
     },
     "metadata": {},
     "output_type": "display_data"
    },
    {
     "name": "stdout",
     "output_type": "stream",
     "text": [
      "{'bus': 13798, 'train': 18929, 'carpooling': 41441}\n",
      "\n",
      "Infos générale sur les trois modes de transport:\n",
      "\n",
      "\n",
      "Prix bus moyen: 3652.45 €\n",
      "Distance moyenne en bus: 474.42 km\n",
      "Prix au km moyen pour le bus: 9.20 €/km\n",
      "Durée moyenne du bus: 15:37:59.769532\n",
      "\n",
      "Prix train moyen: 8506.63 €\n",
      "Distance moyenne en train: 405.24 km\n",
      "Prix au km moyen pour le train: 22.38 €/km\n",
      "Durée moyenne du train: 7:20:03.435998\n",
      "\n",
      "Prix covoit moyen: 2742.17 €\n",
      "Distance moyenne en covoit: 306.68 km\n",
      "Prix au km moyen pour le covoit: 8.91 €/km\n",
      "Durée moyenne du covoit: 4:06:38.330156\n"
     ]
    }
   ],
   "source": [
    "# plot de l'utilisation des modes de transport\n",
    "plt.bar(range(len(types)), list(types.values()), align='center')\n",
    "plt.title('Utilisation des modes de transport')\n",
    "plt.ylabel(\"Nombres d'Utilisation\")\n",
    "plt.xticks(range(len(types)), list(types.keys()))\n",
    "plt.show()\n",
    "\n",
    "print(types)\n",
    "print('\\nInfos générale sur les trois modes de transport:\\n')\n",
    "# bus data\n",
    "prix_bus_moyen = np.mean(prix_bus)\n",
    "dist_bus_moyen = np.mean(dist_bus)\n",
    "prix_km_bus = np.mean(np.divide(prix_bus, dist_bus))\n",
    "durée_bus_moyen = np.mean(durée_bus)\n",
    "print('\\nPrix bus moyen: {:.2f} €'.format(prix_bus_moyen))\n",
    "print('Distance moyenne en bus: {:.2f} km'.format(dist_bus_moyen))\n",
    "print('Prix au km moyen pour le bus: {:.2f} €/km'.format(prix_km_bus))\n",
    "print('Durée moyenne du bus: {}'.format(secToHour(durée_bus_moyen)))\n",
    "# train data\n",
    "prix_train_moyen = np.mean(prix_train)\n",
    "dist_train_moyen = np.mean(dist_train)\n",
    "prix_km_train = np.mean(np.divide(prix_train, dist_train))\n",
    "durée_train_moyen = np.mean(durée_train)\n",
    "print('\\nPrix train moyen: {:.2f} €'.format(prix_train_moyen))\n",
    "print('Distance moyenne en train: {:.2f} km'.format(dist_train_moyen))\n",
    "print('Prix au km moyen pour le train: {:.2f} €/km'.format(prix_km_train))\n",
    "print('Durée moyenne du train: {}'.format(secToHour(durée_train_moyen)))\n",
    "# carpooling data\n",
    "prix_covoit_moyen = np.mean(prix_covoit)\n",
    "dist_covoit_moyen = np.mean(dist_covoit)\n",
    "prix_km_covoit = np.mean(np.divide(prix_covoit, dist_covoit))\n",
    "durée_covoit_moyen = np.mean(durée_covoit)\n",
    "print('\\nPrix covoit moyen: {:.2f} €'.format(prix_covoit_moyen))\n",
    "print('Distance moyenne en covoit: {:.2f} km'.format(dist_covoit_moyen))\n",
    "print('Prix au km moyen pour le covoit: {:.2f} €/km'.format(prix_km_covoit))\n",
    "print('Durée moyenne du covoit: {}'.format(secToHour(durée_covoit_moyen)))"
   ]
  },
  {
   "cell_type": "markdown",
   "metadata": {},
   "source": [
    "### **Comparatif des modes de transport avec tranches de distance**"
   ]
  },
  {
   "cell_type": "code",
   "execution_count": 21,
   "metadata": {},
   "outputs": [
    {
     "data": {
      "image/png": "[encoded data removed]",
      "text/plain": [
       "<matplotlib.figure.Figure at 0x7fd04d6c9d68>"
      ]
     },
     "metadata": {},
     "output_type": "display_data"
    },
    {
     "name": "stdout",
     "output_type": "stream",
     "text": [
      "Il n'y a pas de donnée pour plus de 1500 km pour le train\n"
     ]
    }
   ],
   "source": [
    "x_axis_label = ['','','0-200','','','','', '200-800','','','','', '800-1500','','','','', '1500+']\n",
    "x_axis = [[1,6,11,16],[2,7,12,17],[3,8,13,18]]\n",
    "durée = np.zeros((4,3))\n",
    "# 0-200 km calcules\n",
    "bus_0 = dist_bus < 200\n",
    "train_0 = dist_train < 200\n",
    "covoit_0 = dist_covoit < 200\n",
    "# durée 0-200 moyenne\n",
    "durée[0,0] = np.mean(durée_bus[bus_0])\n",
    "durée[0,1] = np.mean(durée_train[train_0])\n",
    "durée[0,2] = np.mean(durée_covoit[covoit_0])\n",
    "\n",
    "# 200-800 km calcules\n",
    "bus_200 = (dist_bus > 200) | (dist_bus<=800)\n",
    "train_200 = (dist_train > 200) | (dist_train<=800)\n",
    "covoit_200 = (dist_covoit > 200) | (dist_covoit<=800)\n",
    "# durée 200-800 moyenne\n",
    "durée[1,0] = np.mean(durée_bus[bus_200])\n",
    "durée[1,1] = np.mean(durée_train[train_200])\n",
    "durée[1,2] = np.mean(durée_covoit[covoit_200])\n",
    "\n",
    "# 800-2000km calcules\n",
    "bus_800 = (dist_bus > 800) | (dist_bus<=1500)\n",
    "train_800 = (dist_train > 800) | (dist_train<=1500)\n",
    "covoit_800 = (dist_covoit > 800) | (dist_covoit<=1500)\n",
    "# durée 800-2000 moyenne\n",
    "durée[2,0] = np.mean(durée_bus[bus_800])\n",
    "durée[2,1] = np.mean(durée_train[train_800])\n",
    "durée[2,2] = np.mean(durée_covoit[covoit_800])\n",
    "\n",
    "#2000+ km calcules\n",
    "bus_1500= dist_bus > 1500\n",
    "train_1500 = dist_train > 1500\n",
    "covoit_1500 = dist_covoit > 1500\n",
    "# durée 2000+ moyenne\n",
    "durée[3,0] = np.mean(durée_bus[bus_1500])\n",
    "durée[3,1] = np.mean(durée_train[train_1500])\n",
    "durée[3,2] = np.mean(durée_covoit[covoit_1500])\n",
    "durée = np.nan_to_num(durée)\n",
    "\n",
    "# plot durée vs distance\n",
    "plt.bar(x_axis[0],durée[:,0]/60, align='center')\n",
    "plt.bar(x_axis[1],durée[:,1]/60, color='g',align='center')\n",
    "plt.bar(x_axis[2],durée[:,2]/60, color='r',align='center')\n",
    "plt.xticks(range(18), x_axis_label)\n",
    "plt.title('Durée des trajets, en fonction du mode de transport, en fonction de la distance')\n",
    "plt.ylabel('temps (h)')\n",
    "plt.xlabel('Distance (km)')\n",
    "plt.legend(['Bus','Train','Covoit'],loc='upper left')\n",
    "plt.grid(True)\n",
    "plt.show()\n",
    "print(\"Il n'y a pas de donnée pour plus de 1500 km pour le train\")"
   ]
  },
  {
   "cell_type": "code",
   "execution_count": 22,
   "metadata": {},
   "outputs": [
    {
     "data": {
      "image/png": "[encoded data removed]",
      "text/plain": [
       "<matplotlib.figure.Figure at 0x7fd04d6c9358>"
      ]
     },
     "metadata": {},
     "output_type": "display_data"
    },
    {
     "name": "stdout",
     "output_type": "stream",
     "text": [
      "Il n'y a pas de donnée pour plus de 1500 km pour le train\n"
     ]
    }
   ],
   "source": [
    "x_axis_label = ['','','0-200','','','','', '200-800','','','','', '800-1500','','','','', '1500+']\n",
    "x_axis = [[1,6,11,16],[2,7,12,17],[3,8,13,18]]\n",
    "prix_distance = np.zeros((4,3))\n",
    "\n",
    "# prix 0-200 moyenne\n",
    "prix_distance[0,0] = np.mean(prix_bus[bus_0])\n",
    "prix_distance[0,1] = np.mean(prix_train[train_0])\n",
    "prix_distance[0,2] = np.mean(prix_covoit[covoit_0])\n",
    "\n",
    "# prix 200-800 moyenne\n",
    "prix_distance[1,0] = np.mean(prix_bus[bus_200])\n",
    "prix_distance[1,1] = np.mean(prix_train[train_200])\n",
    "prix_distance[1,2] = np.mean(prix_covoit[covoit_200])\n",
    "\n",
    "# prix 800-1500 moyenne\n",
    "prix_distance[2,0] = np.mean(prix_bus[bus_800])\n",
    "prix_distance[2,1] = np.mean(prix_train[train_800])\n",
    "prix_distance[2,2] = np.mean(prix_covoit[covoit_800])\n",
    "\n",
    "# prix 1500+ moyenne\n",
    "prix_distance[3,0] = np.mean(prix_bus[bus_1500])\n",
    "prix_distance[3,1] = np.mean(prix_train[train_1500])\n",
    "prix_distance[3,2] = np.mean(prix_covoit[covoit_1500])\n",
    "prix_distance = np.nan_to_num(prix_distance)\n",
    "\n",
    "# plot prix vs distance\n",
    "plt.bar(x_axis[0],prix_distance[:,0], align='center')\n",
    "plt.bar(x_axis[1],prix_distance[:,1], color='g',align='center')\n",
    "plt.bar(x_axis[2],prix_distance[:,2], color='r',align='center')\n",
    "plt.xticks(range(18), x_axis_label)\n",
    "plt.title('Prix des trajets, en fonction du mode de transport, en fonction de la distance')\n",
    "plt.ylabel('Prix (€)')\n",
    "plt.xlabel('Distance (km)')\n",
    "plt.legend(['Bus','Train','Covoit'],loc='upper left')\n",
    "plt.grid(True)\n",
    "plt.show()\n",
    "print(\"Il n'y a pas de donnée pour plus de 1500 km pour le train\")"
   ]
  }
 ],
 "metadata": {
  "kernelspec": {
   "display_name": "Python [anaconda3]",
   "language": "python",
   "name": "Python [anaconda3]"
  },
  "language_info": {
   "codemirror_mode": {
    "name": "ipython",
    "version": 3
   },
   "file_extension": ".py",
   "mimetype": "text/x-python",
   "name": "python",
   "nbconvert_exporter": "python",
   "pygments_lexer": "ipython3",
   "version": "3.5.2"
  }
 },
 "nbformat": 4,
 "nbformat_minor": 2
}
